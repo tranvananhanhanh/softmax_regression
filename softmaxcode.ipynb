{
  "nbformat": 4,
  "nbformat_minor": 0,
  "metadata": {
    "colab": {
      "provenance": []
    },
    "kernelspec": {
      "name": "python3",
      "display_name": "Python 3"
    },
    "language_info": {
      "name": "python"
    }
  },
  "cells": [
    {
      "cell_type": "code",
      "source": [
        "import matplotlib.pyplot as plt\n",
        "import pandas as pd\n",
        "import torch"
      ],
      "metadata": {
        "id": "GuFgnosS7PoA"
      },
      "execution_count": null,
      "outputs": []
    },
    {
      "cell_type": "code",
      "source": [
        "from sklearn import datasets\n",
        "import math\n",
        "from sklearn.model_selection import train_test_split"
      ],
      "metadata": {
        "id": "b7kV-4DV7Z9R"
      },
      "execution_count": null,
      "outputs": []
    },
    {
      "cell_type": "code",
      "source": [
        "data=datasets.load_iris()\n",
        "X=data['data']\n",
        "y=data['target']\n",
        "print(X.shape)\n",
        "print(y.shape)\n"
      ],
      "metadata": {
        "colab": {
          "base_uri": "https://localhost:8080/"
        },
        "id": "oem5Oeu87neM",
        "outputId": "c331b6c8-f282-497e-8860-01e1a0c6cc13"
      },
      "execution_count": null,
      "outputs": [
        {
          "output_type": "stream",
          "name": "stdout",
          "text": [
            "(150, 4)\n",
            "(150,)\n"
          ]
        }
      ]
    },
    {
      "cell_type": "code",
      "source": [
        "print(y)"
      ],
      "metadata": {
        "colab": {
          "base_uri": "https://localhost:8080/"
        },
        "id": "Kgrvi3GH9skk",
        "outputId": "928dd6db-4619-44d0-84c0-4d819b503dd4"
      },
      "execution_count": null,
      "outputs": [
        {
          "output_type": "stream",
          "name": "stdout",
          "text": [
            "[0 0 0 0 0 0 0 0 0 0 0 0 0 0 0 0 0 0 0 0 0 0 0 0 0 0 0 0 0 0 0 0 0 0 0 0 0\n",
            " 0 0 0 0 0 0 0 0 0 0 0 0 0 1 1 1 1 1 1 1 1 1 1 1 1 1 1 1 1 1 1 1 1 1 1 1 1\n",
            " 1 1 1 1 1 1 1 1 1 1 1 1 1 1 1 1 1 1 1 1 1 1 1 1 1 1 2 2 2 2 2 2 2 2 2 2 2\n",
            " 2 2 2 2 2 2 2 2 2 2 2 2 2 2 2 2 2 2 2 2 2 2 2 2 2 2 2 2 2 2 2 2 2 2 2 2 2\n",
            " 2 2]\n"
          ]
        }
      ]
    },
    {
      "cell_type": "code",
      "source": [
        "import numpy as np\n",
        "\n",
        "from scipy import sparse\n",
        "def convert_labels(y, C = 3):\n",
        "    \"\"\"\n",
        "    convert 1d label to a matrix label: each column of this\n",
        "    matrix coresponding to 1 element in y. In i-th column of Y,\n",
        "    only one non-zeros element located in the y[i]-th position,\n",
        "    and = 1 ex: y = [0, 2, 1, 0], and 3 classes then return\n",
        "\n",
        "            [[1, 0, 0, 1],\n",
        "             [0, 0, 1, 0],\n",
        "             [0, 1, 0, 0]]\n",
        "    \"\"\"\n",
        "    Y = sparse.coo_matrix((np.ones_like(y),\n",
        "        (y, np.arange(len(y)))), shape = (C, len(y))).toarray()\n",
        "    tensor = torch.tensor(Y)\n",
        "\n",
        "    return tensor\n",
        "\n",
        "Y = convert_labels(y, 3)\n",
        "print(Y)\n",
        "print(Y.shape)"
      ],
      "metadata": {
        "colab": {
          "base_uri": "https://localhost:8080/"
        },
        "id": "dwWjX2Vc-b_9",
        "outputId": "254841f1-bebe-4412-e49b-58abb9dbcd82"
      },
      "execution_count": null,
      "outputs": [
        {
          "output_type": "stream",
          "name": "stdout",
          "text": [
            "tensor([[1, 1, 1, 1, 1, 1, 1, 1, 1, 1, 1, 1, 1, 1, 1, 1, 1, 1, 1, 1, 1, 1, 1, 1,\n",
            "         1, 1, 1, 1, 1, 1, 1, 1, 1, 1, 1, 1, 1, 1, 1, 1, 1, 1, 1, 1, 1, 1, 1, 1,\n",
            "         1, 1, 0, 0, 0, 0, 0, 0, 0, 0, 0, 0, 0, 0, 0, 0, 0, 0, 0, 0, 0, 0, 0, 0,\n",
            "         0, 0, 0, 0, 0, 0, 0, 0, 0, 0, 0, 0, 0, 0, 0, 0, 0, 0, 0, 0, 0, 0, 0, 0,\n",
            "         0, 0, 0, 0, 0, 0, 0, 0, 0, 0, 0, 0, 0, 0, 0, 0, 0, 0, 0, 0, 0, 0, 0, 0,\n",
            "         0, 0, 0, 0, 0, 0, 0, 0, 0, 0, 0, 0, 0, 0, 0, 0, 0, 0, 0, 0, 0, 0, 0, 0,\n",
            "         0, 0, 0, 0, 0, 0],\n",
            "        [0, 0, 0, 0, 0, 0, 0, 0, 0, 0, 0, 0, 0, 0, 0, 0, 0, 0, 0, 0, 0, 0, 0, 0,\n",
            "         0, 0, 0, 0, 0, 0, 0, 0, 0, 0, 0, 0, 0, 0, 0, 0, 0, 0, 0, 0, 0, 0, 0, 0,\n",
            "         0, 0, 1, 1, 1, 1, 1, 1, 1, 1, 1, 1, 1, 1, 1, 1, 1, 1, 1, 1, 1, 1, 1, 1,\n",
            "         1, 1, 1, 1, 1, 1, 1, 1, 1, 1, 1, 1, 1, 1, 1, 1, 1, 1, 1, 1, 1, 1, 1, 1,\n",
            "         1, 1, 1, 1, 0, 0, 0, 0, 0, 0, 0, 0, 0, 0, 0, 0, 0, 0, 0, 0, 0, 0, 0, 0,\n",
            "         0, 0, 0, 0, 0, 0, 0, 0, 0, 0, 0, 0, 0, 0, 0, 0, 0, 0, 0, 0, 0, 0, 0, 0,\n",
            "         0, 0, 0, 0, 0, 0],\n",
            "        [0, 0, 0, 0, 0, 0, 0, 0, 0, 0, 0, 0, 0, 0, 0, 0, 0, 0, 0, 0, 0, 0, 0, 0,\n",
            "         0, 0, 0, 0, 0, 0, 0, 0, 0, 0, 0, 0, 0, 0, 0, 0, 0, 0, 0, 0, 0, 0, 0, 0,\n",
            "         0, 0, 0, 0, 0, 0, 0, 0, 0, 0, 0, 0, 0, 0, 0, 0, 0, 0, 0, 0, 0, 0, 0, 0,\n",
            "         0, 0, 0, 0, 0, 0, 0, 0, 0, 0, 0, 0, 0, 0, 0, 0, 0, 0, 0, 0, 0, 0, 0, 0,\n",
            "         0, 0, 0, 0, 1, 1, 1, 1, 1, 1, 1, 1, 1, 1, 1, 1, 1, 1, 1, 1, 1, 1, 1, 1,\n",
            "         1, 1, 1, 1, 1, 1, 1, 1, 1, 1, 1, 1, 1, 1, 1, 1, 1, 1, 1, 1, 1, 1, 1, 1,\n",
            "         1, 1, 1, 1, 1, 1]])\n",
            "torch.Size([3, 150])\n"
          ]
        }
      ]
    },
    {
      "cell_type": "code",
      "source": [
        "def softmax(z):\n",
        "    #tránh tràn số\n",
        "    z -= np.max(z)\n",
        "    sm = (np.exp(z).T / np.sum(np.exp(z),axis=1)).T\n",
        "    return sm"
      ],
      "metadata": {
        "id": "ryFQnIf2pBZA"
      },
      "execution_count": null,
      "outputs": []
    },
    {
      "cell_type": "code",
      "source": [
        "\n",
        "import numpy as np\n",
        "%matplotlib inline\n",
        "import scipy.sparse\n",
        "def oneHotIt(Y):\n",
        "    m = Y.shape[0]\n",
        "    #Y = Y[:,0]\n",
        "    OHX = scipy.sparse.csr_matrix((np.ones(m), (Y, np.array(range(m)))))\n",
        "    OHX = np.array(OHX.todense()).T\n",
        "    return OHX"
      ],
      "metadata": {
        "id": "eMIHMFOYCi9A"
      },
      "execution_count": null,
      "outputs": []
    },
    {
      "cell_type": "code",
      "source": [
        "def getLoss(w,x,y):\n",
        "    m=x.shape[0]\n",
        "    y_mat = oneHotIt(y) #Next we convert the integer class coding into a one-hot representation\n",
        "    scores = np.dot(x,w) #Then we compute raw class scores given our input and current weights\n",
        "    prob = softmax(scores) #Next we perform a softmax on these scores to get their probabilities\n",
        "    loss = -1* np.sum(y_mat * np.log(prob))  #We then find the loss of the probabilities\n",
        "    grad = -1* np.dot(x.T,(y_mat - prob)) #And compute the gradient for that loss\n",
        "    return loss,grad"
      ],
      "metadata": {
        "id": "wKy1ZBVmvJKp"
      },
      "execution_count": null,
      "outputs": []
    },
    {
      "cell_type": "code",
      "source": [
        "\n",
        "def getProbsAndPreds(someX):\n",
        "    probs = softmax(np.dot(someX,w))\n",
        "    preds = np.argmax(probs,axis=1)\n",
        "    return probs,preds"
      ],
      "metadata": {
        "id": "cTcJywDEzixl"
      },
      "execution_count": null,
      "outputs": []
    },
    {
      "cell_type": "code",
      "source": [
        "w = np.zeros([X.shape[1],3])\n",
        "\n",
        "iterations = 1000\n",
        "learningRate = 1e-5\n",
        "losses = []\n",
        "for i in range(0,iterations):\n",
        "    loss,grad = getLoss(w,X,y)\n",
        "    losses.append(loss)\n",
        "    w = w - (learningRate * grad)\n",
        "print(loss)\n"
      ],
      "metadata": {
        "colab": {
          "base_uri": "https://localhost:8080/"
        },
        "id": "ah7uSIJEz4Wl",
        "outputId": "640ed68a-9155-4a71-83ef-8eaf0c5db0fb"
      },
      "execution_count": null,
      "outputs": [
        {
          "output_type": "stream",
          "name": "stdout",
          "text": [
            "95.232608521613\n"
          ]
        }
      ]
    },
    {
      "cell_type": "code",
      "source": [
        "plt.plot(losses)\n"
      ],
      "metadata": {
        "colab": {
          "base_uri": "https://localhost:8080/",
          "height": 448
        },
        "id": "5tp-TiU3C94T",
        "outputId": "bf9dd741-8f9f-4540-adea-8d8bf12b3a47"
      },
      "execution_count": null,
      "outputs": [
        {
          "output_type": "execute_result",
          "data": {
            "text/plain": [
              "[<matplotlib.lines.Line2D at 0x7db22a093520>]"
            ]
          },
          "metadata": {},
          "execution_count": 139
        },
        {
          "output_type": "display_data",
          "data": {
            "text/plain": [
              "<Figure size 640x480 with 1 Axes>"
            ],
            "image/png": "[encoded data removed]"
          },
          "metadata": {}
        }
      ]
    },
    {
      "cell_type": "code",
      "source": [
        "def getAccuracy(someX,someY):\n",
        "    prob,prede = getProbsAndPreds(someX)\n",
        "    accuracy = sum(prede == someY)/(float(len(someY)))\n",
        "    return accuracy\n"
      ],
      "metadata": {
        "id": "YiuYJ0PuDFjw"
      },
      "execution_count": null,
      "outputs": []
    },
    {
      "cell_type": "code",
      "source": [
        "print( getAccuracy(X,y))\n"
      ],
      "metadata": {
        "colab": {
          "base_uri": "https://localhost:8080/"
        },
        "id": "uHz894hwDJhg",
        "outputId": "6ae8a1e8-35de-43fc-b289-a8baa9e0c893"
      },
      "execution_count": null,
      "outputs": [
        {
          "output_type": "stream",
          "name": "stdout",
          "text": [
            "0.6933333333333334\n"
          ]
        }
      ]
    },
    {
      "cell_type": "code",
      "source": [],
      "metadata": {
        "id": "Ci6x1BoVDXlG"
      },
      "execution_count": null,
      "outputs": []
    }
  ]
}